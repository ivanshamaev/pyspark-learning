{
 "cells": [
  {
   "cell_type": "code",
   "execution_count": 1,
   "id": "28d4f300-35c0-496f-a8f5-041aae956c21",
   "metadata": {},
   "outputs": [],
   "source": [
    "from pyspark.sql import SparkSession\n",
    "from pyspark.sql.functions import col, sum as _sum, avg, countDistinct, year, month\n",
    "from pyspark.sql.functions import to_date, coalesce, col\n",
    "from pyspark.sql.functions import when, col, to_date, year, month"
   ]
  },
  {
   "cell_type": "code",
   "execution_count": 2,
   "id": "93312401-81b7-48f5-901a-24ee3d0a7ab7",
   "metadata": {},
   "outputs": [
    {
     "name": "stderr",
     "output_type": "stream",
     "text": [
      "WARNING: Using incubator modules: jdk.incubator.vector\n",
      "Using Spark's default log4j profile: org/apache/spark/log4j2-defaults.properties\n",
      "25/08/11 21:08:50 WARN Utils: Your hostname, prodata, resolves to a loopback address: 127.0.1.1; using 192.168.31.102 instead (on interface enp4s0)\n",
      "25/08/11 21:08:50 WARN Utils: Set SPARK_LOCAL_IP if you need to bind to another address\n",
      "Using Spark's default log4j profile: org/apache/spark/log4j2-defaults.properties\n",
      "Setting default log level to \"WARN\".\n",
      "To adjust logging level use sc.setLogLevel(newLevel). For SparkR, use setLogLevel(newLevel).\n",
      "25/08/11 21:08:51 WARN NativeCodeLoader: Unable to load native-hadoop library for your platform... using builtin-java classes where applicable\n"
     ]
    }
   ],
   "source": [
    "# 1. Создаем SparkSession\n",
    "spark = SparkSession.builder \\\n",
    "    .appName(\"PizzaSalesEDA\") \\\n",
    "    .getOrCreate()"
   ]
  },
  {
   "cell_type": "code",
   "execution_count": 3,
   "id": "d9936fb3-19ea-47ed-af7d-bdffb1858f68",
   "metadata": {},
   "outputs": [
    {
     "name": "stderr",
     "output_type": "stream",
     "text": [
      "                                                                                "
     ]
    }
   ],
   "source": [
    "# 2. Читаем CSV-файл, имитируя его разбивку на несколько частей\n",
    "# (в реальном случае - данные уже будут в партициях, например, в HDFS или S3)\n",
    "df = spark.read.option(\"header\", True).option(\"inferSchema\", True) \\\n",
    "    .csv(\"data/pizza_sales.csv\")\n",
    "\n",
    "# Пробуем несколько форматов безопасно\n",
    "df_with_date = df.withColumn(\n",
    "    \"datafield_iso\",\n",
    "    when(\n",
    "        col(\"order_date\").contains(\"/\"),  # если есть /\n",
    "        to_date(col(\"order_date\"), \"d/M/yyyy\")\n",
    "    ).when(\n",
    "        col(\"order_date\").contains(\"-\"),  # если есть -\n",
    "        to_date(col(\"order_date\"), \"dd-MM-yyyy\")\n",
    "    )\n",
    ")"
   ]
  },
  {
   "cell_type": "code",
   "execution_count": 4,
   "id": "c60ea152-e832-4c86-88c6-3d25838312a7",
   "metadata": {},
   "outputs": [
    {
     "name": "stdout",
     "output_type": "stream",
     "text": [
      "===== Схема данных =====\n",
      "root\n",
      " |-- pizza_id: double (nullable = true)\n",
      " |-- order_id: double (nullable = true)\n",
      " |-- pizza_name_id: string (nullable = true)\n",
      " |-- quantity: double (nullable = true)\n",
      " |-- order_date: string (nullable = true)\n",
      " |-- order_time: timestamp (nullable = true)\n",
      " |-- unit_price: double (nullable = true)\n",
      " |-- total_price: double (nullable = true)\n",
      " |-- pizza_size: string (nullable = true)\n",
      " |-- pizza_category: string (nullable = true)\n",
      " |-- pizza_ingredients: string (nullable = true)\n",
      " |-- pizza_name: string (nullable = true)\n",
      " |-- datafield_iso: date (nullable = true)\n",
      "\n"
     ]
    }
   ],
   "source": [
    "# 3. EDA — быстрая разведка данных\n",
    "print(\"===== Схема данных =====\")\n",
    "df_with_date.printSchema()"
   ]
  },
  {
   "cell_type": "code",
   "execution_count": 5,
   "id": "2b43e359-e4c6-4309-9848-bf24b6604b21",
   "metadata": {},
   "outputs": [
    {
     "name": "stdout",
     "output_type": "stream",
     "text": [
      "===== Первые 5 строк =====\n",
      "+--------+--------+-------------+--------+----------+-------------------+----------+-----------+----------+--------------+--------------------------------------------------------------------------------------------+-------------------------+-------------+\n",
      "|pizza_id|order_id|pizza_name_id|quantity|order_date|order_time         |unit_price|total_price|pizza_size|pizza_category|pizza_ingredients                                                                           |pizza_name               |datafield_iso|\n",
      "+--------+--------+-------------+--------+----------+-------------------+----------+-----------+----------+--------------+--------------------------------------------------------------------------------------------+-------------------------+-------------+\n",
      "|1.0     |1.0     |hawaiian_m   |1.0     |1/1/2015  |2025-08-11 11:38:36|13.25     |13.25      |M         |Classic       |Sliced Ham, Pineapple, Mozzarella Cheese                                                    |The Hawaiian Pizza       |2015-01-01   |\n",
      "|2.0     |2.0     |classic_dlx_m|1.0     |1/1/2015  |2025-08-11 11:57:40|16.0      |16.0       |M         |Classic       |Pepperoni, Mushrooms, Red Onions, Red Peppers, Bacon                                        |The Classic Deluxe Pizza |2015-01-01   |\n",
      "|3.0     |2.0     |five_cheese_l|1.0     |1/1/2015  |2025-08-11 11:57:40|18.5      |18.5       |L         |Veggie        |Mozzarella Cheese, Provolone Cheese, Smoked Gouda Cheese, Romano Cheese, Blue Cheese, Garlic|The Five Cheese Pizza    |2015-01-01   |\n",
      "|4.0     |2.0     |ital_supr_l  |1.0     |1/1/2015  |2025-08-11 11:57:40|20.75     |20.75      |L         |Supreme       |Calabrese Salami, Capocollo, Tomatoes, Red Onions, Green Olives, Garlic                     |The Italian Supreme Pizza|2015-01-01   |\n",
      "|5.0     |2.0     |mexicana_m   |1.0     |1/1/2015  |2025-08-11 11:57:40|16.0      |16.0       |M         |Veggie        |Tomatoes, Red Peppers, Jalapeno Peppers, Red Onions, Cilantro, Corn, Chipotle Sauce, Garlic |The Mexicana Pizza       |2015-01-01   |\n",
      "+--------+--------+-------------+--------+----------+-------------------+----------+-----------+----------+--------------+--------------------------------------------------------------------------------------------+-------------------------+-------------+\n",
      "only showing top 5 rows\n"
     ]
    }
   ],
   "source": [
    "print(\"===== Первые 5 строк =====\")\n",
    "df_with_date.show(5, truncate=False)"
   ]
  },
  {
   "cell_type": "code",
   "execution_count": 6,
   "id": "55d3b562-510a-4164-97ea-86f0a7aded13",
   "metadata": {},
   "outputs": [
    {
     "name": "stderr",
     "output_type": "stream",
     "text": [
      "                                                                                "
     ]
    },
    {
     "name": "stdout",
     "output_type": "stream",
     "text": [
      "Всего заказов: 21350\n",
      "Уникальное число заказанных пицц: 91\n"
     ]
    }
   ],
   "source": [
    "# Количество записей и уникальных клиентов\n",
    "total_orders = df_with_date.select(countDistinct(\"order_id\")).collect()[0][0]\n",
    "unique_pizza_name_id = df_with_date.select(countDistinct(\"pizza_name_id\")).collect()[0][0]\n",
    "print(f\"Всего заказов: {total_orders}\")\n",
    "print(f\"Уникальное число заказанных пицц: {unique_pizza_name_id}\")"
   ]
  },
  {
   "cell_type": "code",
   "execution_count": 7,
   "id": "a0a8ba8d-2b9f-46ae-a818-ce3270b27429",
   "metadata": {},
   "outputs": [
    {
     "name": "stdout",
     "output_type": "stream",
     "text": [
      "+-------+-----------------+------------------+\n",
      "|summary|      total_price|          quantity|\n",
      "+-------+-----------------+------------------+\n",
      "|  count|            48620|             48620|\n",
      "|   mean|16.82147367338569|1.0196215549156726|\n",
      "| stddev|4.437397581181093|0.1430770093247218|\n",
      "|    min|             9.75|               1.0|\n",
      "|    max|             83.0|               4.0|\n",
      "+-------+-----------------+------------------+\n",
      "\n"
     ]
    }
   ],
   "source": [
    "# 4. Числовая статистика по сумме заказов\n",
    "df_with_date.describe([\"total_price\", \"quantity\"]).show()"
   ]
  },
  {
   "cell_type": "code",
   "execution_count": 8,
   "id": "e7eb4030-2c57-4f75-ac2e-cdb0939d52ab",
   "metadata": {},
   "outputs": [
    {
     "name": "stdout",
     "output_type": "stream",
     "text": [
      "===== Топ-5 популярных пицц =====\n",
      "+--------------------+----------+\n",
      "|          pizza_name|total_sold|\n",
      "+--------------------+----------+\n",
      "|The Classic Delux...|    2453.0|\n",
      "|The Barbecue Chic...|    2432.0|\n",
      "|  The Hawaiian Pizza|    2422.0|\n",
      "| The Pepperoni Pizza|    2418.0|\n",
      "|The Thai Chicken ...|    2371.0|\n",
      "+--------------------+----------+\n",
      "\n"
     ]
    }
   ],
   "source": [
    "# 5. Топ-5 самых популярных пицц\n",
    "top_pizzas = (\n",
    "    df_with_date.groupBy(\"pizza_name\")\n",
    "      .agg(_sum(\"quantity\").alias(\"total_sold\"))\n",
    "      .orderBy(col(\"total_sold\").desc())\n",
    "      .limit(5)\n",
    ")\n",
    "print(\"===== Топ-5 популярных пицц =====\")\n",
    "top_pizzas.show()"
   ]
  },
  {
   "cell_type": "code",
   "execution_count": 9,
   "id": "f60d7ac3-f222-4e7a-bd58-89a68e5d27f3",
   "metadata": {},
   "outputs": [
    {
     "name": "stdout",
     "output_type": "stream",
     "text": [
      "===== Месячная статистика по категориям =====\n"
     ]
    },
    {
     "name": "stderr",
     "output_type": "stream",
     "text": [
      "[Stage 21:>                                                         (0 + 2) / 2]"
     ]
    },
    {
     "name": "stdout",
     "output_type": "stream",
     "text": [
      "+----+-----+--------------+------------------+------------------+------------+\n",
      "|year|month|pizza_category|revenue           |avg_order_value   |total_pizzas|\n",
      "+----+-----+--------------+------------------+------------------+------------+\n",
      "|2015|1    |Classic       |18619.4           |15.039903069466883|1257.0      |\n",
      "|2015|1    |Supreme       |17929.749999999996|17.475389863547754|1044.0      |\n",
      "|2015|1    |Veggie        |17055.400000000027|17.08957915831666 |1018.0      |\n",
      "|2015|1    |Chicken       |16188.75          |18.108221476510067|913.0       |\n",
      "|2015|2    |Classic       |17336.100000000002|14.970725388601037|1178.0      |\n",
      "|2015|2    |Supreme       |16718.84999999999 |17.63591772151898 |964.0       |\n",
      "|2015|2    |Veggie        |15636.400000000025|16.867745415318257|944.0       |\n",
      "|2015|2    |Chicken       |15468.25          |18.007275902211873|875.0       |\n",
      "|2015|3    |Classic       |18116.600000000002|14.960033030553264|1236.0      |\n",
      "|2015|3    |Chicken       |17625.5           |17.966870540265035|994.0       |\n",
      "|2015|3    |Veggie        |17335.350000000035|16.945601173020563|1040.0      |\n",
      "|2015|3    |Supreme       |17319.649999999994|17.836920700308955|991.0       |\n",
      "|2015|4    |Classic       |18816.800000000003|15.298211382113823|1253.0      |\n",
      "|2015|4    |Supreme       |17643.550000000003|17.839787664307384|1013.0      |\n",
      "|2015|4    |Chicken       |16473.0           |18.242524916943523|924.0       |\n",
      "|2015|4    |Veggie        |15803.450000000028|16.723227513227542|961.0       |\n",
      "|2015|5    |Classic       |19423.100000000002|15.021732405259089|1324.0      |\n",
      "|2015|5    |Supreme       |18315.649999999994|17.886376953124994|1045.0      |\n",
      "|2015|5    |Veggie        |16911.75000000003 |16.861166500498534|1020.0      |\n",
      "|2015|5    |Chicken       |16752.25          |18.228781284004352|939.0       |\n",
      "+----+-----+--------------+------------------+------------------+------------+\n",
      "only showing top 20 rows\n"
     ]
    },
    {
     "name": "stderr",
     "output_type": "stream",
     "text": [
      "                                                                                "
     ]
    }
   ],
   "source": [
    "# 6. Анализ по месяцам и категориям пицц (агрегация + фильтрация)\n",
    "# Предположим, у нас есть колонка order_date\n",
    "\n",
    "df_year_month = df_with_date.withColumn(\"year\", year(col(\"datafield_iso\"))) \\\n",
    "                           .withColumn(\"month\", month(col(\"datafield_iso\")))\n",
    "\n",
    "monthly_stats = (\n",
    "    df_year_month.groupBy(\"year\", \"month\", \"pizza_category\")\n",
    "                .agg(\n",
    "                    _sum(\"total_price\").alias(\"revenue\"),\n",
    "                    avg(\"total_price\").alias(\"avg_order_value\"),\n",
    "                    _sum(\"quantity\").alias(\"total_pizzas\")\n",
    "                )\n",
    "                .filter(col(\"revenue\") > 5000)\n",
    "                .orderBy(\"year\", \"month\", col(\"revenue\").desc())\n",
    ")\n",
    "\n",
    "print(\"===== Месячная статистика по категориям =====\")\n",
    "monthly_stats.show(20, truncate=False)"
   ]
  },
  {
   "cell_type": "code",
   "execution_count": 10,
   "id": "68f9f07d-ac79-4fdc-a7fd-8dbad5822f70",
   "metadata": {},
   "outputs": [
    {
     "name": "stderr",
     "output_type": "stream",
     "text": [
      "                                                                                "
     ]
    }
   ],
   "source": [
    "# 7. Пример сохранения результата в Parquet\n",
    "monthly_stats.write.mode(\"overwrite\").parquet(\"output/monthly_stats\")\n"
   ]
  },
  {
   "cell_type": "code",
   "execution_count": 11,
   "id": "d09c94a4-06cd-46ee-8490-9dd8f6bb4ea4",
   "metadata": {},
   "outputs": [],
   "source": [
    "# 8. Завершаем работу\n",
    "spark.stop()"
   ]
  },
  {
   "cell_type": "code",
   "execution_count": null,
   "id": "32ac5ded-8bac-4e76-8815-0b90f97b2207",
   "metadata": {},
   "outputs": [],
   "source": []
  }
 ],
 "metadata": {
  "kernelspec": {
   "display_name": "Python 3 (ipykernel)",
   "language": "python",
   "name": "python3"
  },
  "language_info": {
   "codemirror_mode": {
    "name": "ipython",
    "version": 3
   },
   "file_extension": ".py",
   "mimetype": "text/x-python",
   "name": "python",
   "nbconvert_exporter": "python",
   "pygments_lexer": "ipython3",
   "version": "3.12.3"
  }
 },
 "nbformat": 4,
 "nbformat_minor": 5
}
