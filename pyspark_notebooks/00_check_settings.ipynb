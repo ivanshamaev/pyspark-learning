{
 "cells": [
  {
   "cell_type": "code",
   "execution_count": 16,
   "id": "bfe23f40-595d-40e7-81d1-dc3844e8d9b9",
   "metadata": {},
   "outputs": [
    {
     "name": "stdout",
     "output_type": "stream",
     "text": [
      "/usr/lib/jvm/java-17-openjdk-amd64\n"
     ]
    }
   ],
   "source": [
    "import os\n",
    "print(os.environ.get(\"JAVA_HOME\"))\n",
    "# Для PySpark 4.0.0 необходима версия \n",
    "# --- /usr/lib/jvm/java-17-openjdk-amd64\n",
    "# Можно проверить из консоли с помощью команды \n",
    "# echo $JAVA_HOME"
   ]
  },
  {
   "cell_type": "code",
   "execution_count": 17,
   "id": "79583a78-fb11-4123-bffb-2ef98e6c90cc",
   "metadata": {},
   "outputs": [
    {
     "name": "stdout",
     "output_type": "stream",
     "text": [
      "\n",
      "# >>> Added for PySpark Java 17 support >>>\n",
      "export JAVA_HOME=/usr/lib/jvm/java-17-openjdk-amd64\n",
      "export PATH=$JAVA_HOME/bin:$PATH\n",
      "# <<< End custom section <<<\n",
      "\n"
     ]
    }
   ],
   "source": [
    "# Если версия отличается от 17, установите 17 версию на локальную машину\n",
    "# Если 17 версия есть, то можно попробовать в файл activate добавить строки\n",
    "print('''\n",
    "# >>> Added for PySpark Java 17 support >>>\n",
    "export JAVA_HOME=/usr/lib/jvm/java-17-openjdk-amd64\n",
    "export PATH=$JAVA_HOME/bin:$PATH\n",
    "# <<< End custom section <<<\n",
    "''')"
   ]
  },
  {
   "cell_type": "code",
   "execution_count": 18,
   "id": "52582d22-ffe5-48ac-bb69-73afcd8e3cf3",
   "metadata": {},
   "outputs": [
    {
     "name": "stdout",
     "output_type": "stream",
     "text": [
      "openjdk version \"17.0.15\" 2025-04-15\n",
      "OpenJDK Runtime Environment (build 17.0.15+6-Ubuntu-0ubuntu124.04)\n",
      "OpenJDK 64-Bit Server VM (build 17.0.15+6-Ubuntu-0ubuntu124.04, mixed mode, sharing)\n"
     ]
    }
   ],
   "source": [
    "!java -version"
   ]
  },
  {
   "cell_type": "code",
   "execution_count": 19,
   "id": "cfd0f367-5160-4bcf-aceb-ae351827faf0",
   "metadata": {},
   "outputs": [
    {
     "name": "stdout",
     "output_type": "stream",
     "text": [
      "PySpark version: 4.0.0\n"
     ]
    }
   ],
   "source": [
    "import pyspark\n",
    "print(\"PySpark version:\", pyspark.__version__)"
   ]
  },
  {
   "cell_type": "code",
   "execution_count": 20,
   "id": "162f3fb9-4bf1-461a-827d-f6389143a436",
   "metadata": {},
   "outputs": [
    {
     "name": "stdout",
     "output_type": "stream",
     "text": [
      "Spark session started with version: 4.0.0\n"
     ]
    }
   ],
   "source": [
    "from pyspark.sql import SparkSession\n",
    "\n",
    "spark = SparkSession.builder \\\n",
    "    .appName(\"PySparkTest\") \\\n",
    "    .master(\"local[*]\") \\\n",
    "    .getOrCreate()\n",
    "\n",
    "print(\"Spark session started with version:\", spark.version)"
   ]
  },
  {
   "cell_type": "code",
   "execution_count": 21,
   "id": "acdf24fe-4e03-4afd-9be3-4aff1d9c224e",
   "metadata": {},
   "outputs": [
    {
     "name": "stdout",
     "output_type": "stream",
     "text": [
      "+-------+---+\n",
      "|   Name|Age|\n",
      "+-------+---+\n",
      "|  Alice| 25|\n",
      "|    Bob| 30|\n",
      "|Charlie| 35|\n",
      "+-------+---+\n",
      "\n",
      "+-------+-------+----+\n",
      "|summary|   Name| Age|\n",
      "+-------+-------+----+\n",
      "|  count|      3|   3|\n",
      "|   mean|   NULL|30.0|\n",
      "| stddev|   NULL| 5.0|\n",
      "|    min|  Alice|  25|\n",
      "|    max|Charlie|  35|\n",
      "+-------+-------+----+\n",
      "\n"
     ]
    }
   ],
   "source": [
    "data = [(\"Alice\", 25), (\"Bob\", 30), (\"Charlie\", 35)]\n",
    "df = spark.createDataFrame(data, [\"Name\", \"Age\"])\n",
    "\n",
    "df.show()\n",
    "\n",
    "df.describe().show()"
   ]
  },
  {
   "cell_type": "code",
   "execution_count": 23,
   "id": "72021033-3ba6-4dde-8d2f-91deaf864887",
   "metadata": {},
   "outputs": [],
   "source": [
    "spark.stop()"
   ]
  },
  {
   "cell_type": "code",
   "execution_count": 24,
   "id": "cd144b02-a36e-4923-8bc0-ee04b4e82a8f",
   "metadata": {},
   "outputs": [
    {
     "name": "stdout",
     "output_type": "stream",
     "text": [
      "/home/ivan/project/pyspark-learning/venv/bin/python\n",
      "Name: pyspark\n",
      "Version: 4.0.0\n",
      "Summary: Apache Spark Python API\n",
      "Home-page: https://github.com/apache/spark/tree/master/python\n",
      "Author: Spark Developers\n",
      "Author-email: dev@spark.apache.org\n",
      "License: http://www.apache.org/licenses/LICENSE-2.0\n",
      "Location: /home/ivan/project/pyspark-learning/venv/lib/python3.12/site-packages\n",
      "Requires: py4j\n",
      "Required-by: \n"
     ]
    }
   ],
   "source": [
    "!which python\n",
    "!pip show pyspark"
   ]
  }
 ],
 "metadata": {
  "kernelspec": {
   "display_name": "Python 3 (ipykernel)",
   "language": "python",
   "name": "python3"
  },
  "language_info": {
   "codemirror_mode": {
    "name": "ipython",
    "version": 3
   },
   "file_extension": ".py",
   "mimetype": "text/x-python",
   "name": "python",
   "nbconvert_exporter": "python",
   "pygments_lexer": "ipython3",
   "version": "3.12.3"
  }
 },
 "nbformat": 4,
 "nbformat_minor": 5
}
