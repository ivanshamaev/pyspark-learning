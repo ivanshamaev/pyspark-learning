{
 "cells": [
  {
   "cell_type": "code",
   "execution_count": 1,
   "id": "f6f26c8f-be13-4c5f-9a2b-75612cc7b3c0",
   "metadata": {},
   "outputs": [
    {
     "name": "stdout",
     "output_type": "stream",
     "text": [
      "/usr/lib/jvm/java-11-openjdk-amd64\n"
     ]
    }
   ],
   "source": [
    "import os\n",
    "print(os.environ.get(\"JAVA_HOME\"))"
   ]
  },
  {
   "cell_type": "code",
   "execution_count": 4,
   "id": "52582d22-ffe5-48ac-bb69-73afcd8e3cf3",
   "metadata": {},
   "outputs": [
    {
     "name": "stdout",
     "output_type": "stream",
     "text": [
      "Collecting pipdeptree\n",
      "  Downloading pipdeptree-2.28.0-py3-none-any.whl.metadata (14 kB)\n",
      "Requirement already satisfied: packaging>=24.1 in /home/ivan/project/pyspark-learning/venv/lib/python3.12/site-packages (from pipdeptree) (25.0)\n",
      "Requirement already satisfied: pip>=24.2 in /home/ivan/project/pyspark-learning/venv/lib/python3.12/site-packages (from pipdeptree) (25.2)\n",
      "Downloading pipdeptree-2.28.0-py3-none-any.whl (33 kB)\n",
      "Installing collected packages: pipdeptree\n",
      "Successfully installed pipdeptree-2.28.0\n"
     ]
    }
   ],
   "source": [
    "!pip install !pipdeptree --json-tree | head -20"
   ]
  },
  {
   "cell_type": "code",
   "execution_count": 5,
   "id": "cfd0f367-5160-4bcf-aceb-ae351827faf0",
   "metadata": {},
   "outputs": [
    {
     "name": "stdout",
     "output_type": "stream",
     "text": [
      "[\n",
      "    {\n",
      "        \"key\": \"fqdn\",\n",
      "        \"package_name\": \"fqdn\",\n",
      "        \"installed_version\": \"1.5.1\",\n",
      "        \"required_version\": \"1.5.1\",\n",
      "        \"dependencies\": []\n",
      "    },\n",
      "    {\n",
      "        \"key\": \"isoduration\",\n",
      "        \"package_name\": \"isoduration\",\n",
      "        \"installed_version\": \"20.11.0\",\n",
      "        \"required_version\": \"20.11.0\",\n",
      "        \"dependencies\": [\n",
      "            {\n",
      "                \"key\": \"arrow\",\n",
      "                \"package_name\": \"arrow\",\n",
      "                \"installed_version\": \"1.3.0\",\n",
      "                \"required_version\": \">=0.15.0\",\n",
      "                \"dependencies\": [\n",
      "Traceback (most recent call last):\n",
      "  File \"/home/ivan/project/pyspark-learning/venv/bin/pipdeptree\", line 7, in <module>\n",
      "    sys.exit(main())\n",
      "             ^^^^^^\n",
      "  File \"/home/ivan/project/pyspark-learning/venv/lib/python3.12/site-packages/pipdeptree/__main__.py\", line 70, in main\n",
      "    render(options, tree)\n",
      "  File \"/home/ivan/project/pyspark-learning/venv/lib/python3.12/site-packages/pipdeptree/_render/__init__.py\", line 21, in render\n",
      "    print(render_json_tree(tree))  # noqa: T201\n",
      "    ^^^^^^^^^^^^^^^^^^^^^^^^^^^^^\n",
      "BrokenPipeError: [Errno 32] Broken pipe\n"
     ]
    }
   ],
   "source": [
    "!pipdeptree --json-tree | head -20"
   ]
  },
  {
   "cell_type": "code",
   "execution_count": null,
   "id": "162f3fb9-4bf1-461a-827d-f6389143a436",
   "metadata": {},
   "outputs": [],
   "source": []
  }
 ],
 "metadata": {
  "kernelspec": {
   "display_name": "Python 3 (ipykernel)",
   "language": "python",
   "name": "python3"
  },
  "language_info": {
   "codemirror_mode": {
    "name": "ipython",
    "version": 3
   },
   "file_extension": ".py",
   "mimetype": "text/x-python",
   "name": "python",
   "nbconvert_exporter": "python",
   "pygments_lexer": "ipython3",
   "version": "3.12.3"
  }
 },
 "nbformat": 4,
 "nbformat_minor": 5
}
